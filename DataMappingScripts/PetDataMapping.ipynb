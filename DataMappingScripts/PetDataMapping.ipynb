{
 "cells": [
  {
   "cell_type": "code",
   "execution_count": 1,
   "metadata": {},
   "outputs": [
    {
     "name": "stdout",
     "output_type": "stream",
     "text": [
      "<Worksheet \"Data\">\n"
     ]
    }
   ],
   "source": [
    "import openpyxl\n",
    "\n",
    "# Caminho do arquivo original\n",
    "file_path = '../DataTables/Base - atualizada.xlsx'\n",
    "wb = openpyxl.load_workbook(file_path)\n",
    "\n",
    "# Selecionar a folha relevante\n",
    "ws = wb['Data']\n",
    "\n",
    "print(ws)"
   ]
  },
  {
   "cell_type": "code",
   "execution_count": 2,
   "metadata": {},
   "outputs": [],
   "source": [
    "# Definir os mapeamentos\n",
    "mappings = {\n",
    "    '1 - Com que idade seu cachorro foi adotado?': {\n",
    "        'Filhote (até 1 ano)': 0,\n",
    "        'Jovem (1 - 3 anos)': 1,\n",
    "        'Adulto (4 - 7 anos)': 1.5,\n",
    "        'Idoso (8 anos ou mais)': 2\n",
    "    },\n",
    "    '2 - Você considera o nível de energia de seu cachorro como:': {\n",
    "        'Baixo': 0,\n",
    "        'Médio': 0,\n",
    "        'Alto': 0\n",
    "    },\n",
    "    '3 - Qual o porte do seu cachorro?': {\n",
    "        'Pequeno': 0,\n",
    "        'Médio': 0.5,\n",
    "        'Grande': 1\n",
    "    },\n",
    "    '4 - Qual a necessidade de estímulos (atividades físicas) do cachorro?': {\n",
    "        'Baixa': 0,\n",
    "        'Moderada': 2.5,\n",
    "        'Alta': 5\n",
    "    },\n",
    "    '5 - Como é o temperamento do seu cachorro? ': {\n",
    "        'Muito amigável com todos': 2,\n",
    "        'Tímido, mas amigável': 1,\n",
    "        'Não amigável': 0\n",
    "    },\n",
    "    '6 - Como o seu cão se comporta com crianças?  ': {\n",
    "        'Prefere ambientes sem crianças': 0,\n",
    "        'Tolerante com crianças': 4,\n",
    "        'Adora crianças': 8\n",
    "    },\n",
    "    '7 - Como o seu cão socializa com outros animais?  ': {\n",
    "        'Prefere ser o único animal da casa': 0,\n",
    "        'Prefere apenas a companhia de outros pets da mesma espécie': 2,\n",
    "        'Amigável com todos os tipos de animais': 4\n",
    "    },\n",
    "    '8 - O cão tem alguma necessidade especial de cuidados? ': {\n",
    "        'Não, sem necessidades especiais': 0,\n",
    "        'Sim, necessidades dietéticas especiais': 1.5,\n",
    "        'Sim, cuidados médicos contínuos': 2       \n",
    "    },\n",
    "    '9 - Seu cachorro:': {\n",
    "        'Solta muito pelo': 0.2,\n",
    "        'Solta pelo em uma determinada época do ano': 0.1,\n",
    "        'Solta pouco pelo': 0\n",
    "    }\n",
    "}"
   ]
  },
  {
   "cell_type": "code",
   "execution_count": 3,
   "metadata": {},
   "outputs": [],
   "source": [
    "# Renomear colunas\n",
    "new_column_names = {\n",
    "    '1 - Com que idade seu cachorro foi adotado?': 'adoptionAge',\n",
    "    '2 - Você considera o nível de energia de seu cachorro como:': 'energyLevel',\n",
    "    '3 - Qual o porte do seu cachorro?': 'dogSize',\n",
    "    '4 - Qual a necessidade de estímulos (atividades físicas) do cachorro?': 'physicalNeeds',\n",
    "    '5 - Como é o temperamento do seu cachorro? ': 'temperament',\n",
    "    '6 - Como o seu cão se comporta com crianças?  ': 'behaviorWithKids',\n",
    "    '7 - Como o seu cão socializa com outros animais?  ': 'behaviorWithAnimals',\n",
    "    '8 - O cão tem alguma necessidade especial de cuidados? ': 'specialCareNeeds',\n",
    "    '9 - Seu cachorro:': 'coatCharacteristics'\n",
    "}"
   ]
  },
  {
   "cell_type": "code",
   "execution_count": 4,
   "metadata": {},
   "outputs": [],
   "source": [
    "# Criar um novo workbook e uma nova folha\n",
    "new_wb = openpyxl.Workbook()\n",
    "new_ws = new_wb.active\n",
    "new_ws.title = 'Mapped Data'\n",
    "\n",
    "# Adicionar cabeçalhos das colunas mapeadas\n",
    "new_headers = [new_column_names[col[0].value] for col in ws.iter_cols(min_col=8, max_col=17) if col[0].value in mappings]\n",
    "new_ws.append(new_headers)"
   ]
  },
  {
   "cell_type": "code",
   "execution_count": 5,
   "metadata": {},
   "outputs": [],
   "source": [
    "# Aplicar mapeamentos e escrever no novo arquivo apenas as colunas mapeadas (I até Q)\n",
    "for row in ws.iter_rows(min_row=2, min_col=8, max_col=18, values_only=True):\n",
    "    new_row = []\n",
    "    for col_index, cell in enumerate(row):\n",
    "        column_name = ws.cell(row=1, column=col_index + 8).value\n",
    "        if column_name in mappings:        \n",
    "            mapped_value = mappings[column_name].get(cell, cell)\n",
    "            new_row.append(mapped_value)\n",
    "    if new_row:\n",
    "        new_ws.append(new_row)"
   ]
  },
  {
   "cell_type": "code",
   "execution_count": 6,
   "metadata": {},
   "outputs": [
    {
     "data": {
      "text/plain": [
       "'../DataTables/PetMapped.xlsx'"
      ]
     },
     "execution_count": 6,
     "metadata": {},
     "output_type": "execute_result"
    }
   ],
   "source": [
    "# Salvar o arquivo modificado\n",
    "new_file_path = '../DataTables/PetMapped.xlsx'\n",
    "new_wb.save(new_file_path)\n",
    "\n",
    "new_file_path"
   ]
  }
 ],
 "metadata": {
  "kernelspec": {
   "display_name": "Python 3",
   "language": "python",
   "name": "python3"
  },
  "language_info": {
   "codemirror_mode": {
    "name": "ipython",
    "version": 3
   },
   "file_extension": ".py",
   "mimetype": "text/x-python",
   "name": "python",
   "nbconvert_exporter": "python",
   "pygments_lexer": "ipython3",
   "version": "3.13.0"
  }
 },
 "nbformat": 4,
 "nbformat_minor": 2
}
