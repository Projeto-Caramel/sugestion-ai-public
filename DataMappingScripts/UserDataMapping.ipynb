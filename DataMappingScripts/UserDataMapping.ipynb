{
 "cells": [
  {
   "cell_type": "code",
   "execution_count": 1,
   "metadata": {},
   "outputs": [
    {
     "name": "stdout",
     "output_type": "stream",
     "text": [
      "<Worksheet \"Data\">\n"
     ]
    }
   ],
   "source": [
    "import openpyxl\n",
    "\n",
    "# Caminho do arquivo original\n",
    "file_path = '../DataTables/Base - atualizada.xlsx'\n",
    "wb = openpyxl.load_workbook(file_path)\n",
    "\n",
    "# Selecionar a folha relevante\n",
    "ws = wb['Data']\n",
    "\n",
    "print(ws)"
   ]
  },
  {
   "cell_type": "code",
   "execution_count": 2,
   "metadata": {},
   "outputs": [],
   "source": [
    "# Definir os mapeamentos\n",
    "mappings = {\n",
    "    '1- Qual é a sua Idade?': {\n",
    "        '18-25 anos': 0,\n",
    "        '26-35 anos': 1,\n",
    "        '36-45 anos': 2,\n",
    "        '46-55 anos': 3,\n",
    "        '56-65 anos': 7,\n",
    "        'mais que 65 anos': 7\n",
    "    },\n",
    "    '2 - Você já teve algum outro Pet?': {\n",
    "        'Sim': 1,\n",
    "        'Não': 0\n",
    "    },\n",
    "    '3 - Qual o seu Tipo de Moradia?': {\n",
    "        'Apartamento': 0,\n",
    "        'Casa': 2,\n",
    "        'Chácara/ sítio': 4\n",
    "    },\n",
    "    '4 - Existem crianças (até 12 anos) na sua casa?': {\n",
    "        'Sim': 3,\n",
    "        'Não': 0\n",
    "    },\n",
    "    '5 - Como você descreveria seus recursos financeiros para arcar com os custos de ter um cachorro (alimentação, cuidados veterinários, etc.)?  ': {\n",
    "        'Confortável, sem problemas financeiros': 4,\n",
    "        'Posso arcar com os custos essenciais': 2,\n",
    "        'Tenho que planejar cuidadosamente meus gastos': 0,\n",
    "        'Tenho dificuldades financeiras': 0\n",
    "    },\n",
    "    '6 - Como você descreveria seu Estilo de Vida?  ': {\n",
    "        'Muito ativo(a), gosto de atividades ao ar livre': 1.5,\n",
    "        'Moderadamente ativo(a), às vezes pratico atividades ao ar livre': 1,\n",
    "        'Principalmente em casa, com atividades ocasionais fora': 0.5,\n",
    "        'Gosto de ficar em casa a maior parte do tempo': 0\n",
    "    },\n",
    "    '7 - Quanto tempo livre você passa em casa por dia (em média)?': {\n",
    "        'Menos de 2 horas': 0,\n",
    "        '2-4 horas': 2,\n",
    "        '4-8 horas': 4,\n",
    "        'Mais que 8 horas': 6\n",
    "    }\n",
    "}"
   ]
  },
  {
   "cell_type": "code",
   "execution_count": 3,
   "metadata": {},
   "outputs": [],
   "source": [
    "# Renomear colunas\n",
    "new_column_names = {\n",
    "    '1- Qual é a sua Idade?': 'age',\n",
    "    '2 - Você já teve algum outro Pet?': 'hadOtherPet',\n",
    "    '3 - Qual o seu Tipo de Moradia?': 'typeOfResidence',\n",
    "    '4 - Existem crianças (até 12 anos) na sua casa?': 'hasChildren',\n",
    "    '5 - Como você descreveria seus recursos financeiros para arcar com os custos de ter um cachorro (alimentação, cuidados veterinários, etc.)?  ': 'financialResources',\n",
    "    '6 - Como você descreveria seu Estilo de Vida?  ': 'lifestyle',\n",
    "    '7 - Quanto tempo livre você passa em casa por dia (em média)?': 'freeTime'\n",
    "}"
   ]
  },
  {
   "cell_type": "code",
   "execution_count": 4,
   "metadata": {},
   "outputs": [],
   "source": [
    "# Criar um novo workbook e uma nova folha\n",
    "new_wb = openpyxl.Workbook()\n",
    "new_ws = new_wb.active\n",
    "new_ws.title = 'Mapped Data'\n",
    "\n",
    "# Adicionar cabeçalhos das colunas mapeadas\n",
    "new_headers = [new_column_names[col[0].value] for col in ws.iter_cols(1, 7) if col[0].value in mappings]\n",
    "new_ws.append(new_headers)"
   ]
  },
  {
   "cell_type": "code",
   "execution_count": 5,
   "metadata": {},
   "outputs": [],
   "source": [
    "# Aplicar mapeamentos e escrever no novo arquivo apenas as colunas mapeadas (A até G)\n",
    "for row in ws.iter_rows(min_row=2, max_col=7, values_only=True):\n",
    "    new_row = []\n",
    "    for col_index, cell in enumerate(row):\n",
    "        column_name = ws.cell(row=1, column=col_index + 1).value\n",
    "        if column_name in mappings:\n",
    "            mapped_value = mappings[column_name].get(cell, cell)\n",
    "            new_row.append(mapped_value)\n",
    "    if new_row:\n",
    "        new_ws.append(new_row)"
   ]
  },
  {
   "cell_type": "code",
   "execution_count": 6,
   "metadata": {},
   "outputs": [
    {
     "data": {
      "text/plain": [
       "'../DataTables/UserMapped.xlsx'"
      ]
     },
     "execution_count": 6,
     "metadata": {},
     "output_type": "execute_result"
    }
   ],
   "source": [
    "# Salvar o arquivo modificado\n",
    "new_file_path = '../DataTables/UserMapped.xlsx'\n",
    "new_wb.save(new_file_path)\n",
    "\n",
    "new_file_path"
   ]
  }
 ],
 "metadata": {
  "kernelspec": {
   "display_name": "Python 3",
   "language": "python",
   "name": "python3"
  },
  "language_info": {
   "codemirror_mode": {
    "name": "ipython",
    "version": 3
   },
   "file_extension": ".py",
   "mimetype": "text/x-python",
   "name": "python",
   "nbconvert_exporter": "python",
   "pygments_lexer": "ipython3",
   "version": "3.13.0"
  }
 },
 "nbformat": 4,
 "nbformat_minor": 2
}
